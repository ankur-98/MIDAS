{
  "nbformat": 4,
  "nbformat_minor": 0,
  "metadata": {
    "colab": {
      "name": "Untitled3.ipynb",
      "version": "0.3.2",
      "provenance": []
    },
    "kernelspec": {
      "name": "python3",
      "display_name": "Python 3"
    }
  },
  "cells": [
    {
      "metadata": {
        "id": "xTuFMB_ONdU6",
        "colab_type": "text"
      },
      "cell_type": "markdown",
      "source": [
        "# Python Problem\n",
        "To write a python script to fetch all the tweets(as many as allowed by Twitter API) done by midas@IIITD twitter handle and dump the responses into JSONlines file. Further, parse these JSONline files to display the following for every tweet in a tabular format.\n",
        "\n",
        "* The text of the tweet.\n",
        "* Date and time of the tweet.\n",
        "* The number of favorites/likes.\n",
        "* The number of retweets.\n",
        "* Number of Images present in Tweet. If no image returns None.\n",
        "\n",
        "---\n"
      ]
    },
    {
      "metadata": {
        "id": "_ke6tV-QOj-A",
        "colab_type": "text"
      },
      "cell_type": "markdown",
      "source": [
        "\n",
        "## Installing the required Libraries"
      ]
    },
    {
      "metadata": {
        "id": "TYUSs7-UNbZc",
        "colab_type": "code",
        "colab": {}
      },
      "cell_type": "code",
      "source": [
			"#!pip install twarc"
      ],
      "execution_count": 0,
      "outputs": []
    }
  ]
}