{
  "nbformat": 4,
  "nbformat_minor": 0,
  "metadata": {
    "colab": {
      "name": "Untitled3.ipynb",
      "version": "0.3.2",
      "provenance": [],
      "collapsed_sections": []
    },
    "kernelspec": {
      "name": "python3",
      "display_name": "Python 3"
    }
  },
  "cells": [
    {
      "metadata": {
        "id": "xTuFMB_ONdU6",
        "colab_type": "text"
      },
      "cell_type": "markdown",
      "source": [
        "# Python Problem\n",
        "To write a python script to fetch all the tweets(as many as allowed by Twitter API) done by midas@IIITD twitter handle and dump the responses into JSONlines file. Further, parse these JSONline files to display the following for every tweet in a tabular format.\n",
        "\n",
        "* The text of the tweet.\n",
        "* Date and time of the tweet.\n",
        "* The number of favorites/likes.\n",
        "* The number of retweets.\n",
        "* Number of Images present in Tweet. If no image returns None.\n",
        "\n",
        "\n",
        "---\n"
      ]
    },
    {
      "metadata": {
        "colab_type": "text",
        "id": "iR4gIlAyn3XS"
      },
      "cell_type": "markdown",
      "source": [
        "\n",
        "## Installing the required Libraries"
      ]
    },
    {
      "metadata": {
        "colab_type": "code",
        "outputId": "8ae0c609-7d46-46bb-a247-0d9be14abf4e",
        "id": "mRqd89RLn3Wi",
        "colab": {
          "base_uri": "https://localhost:8080/",
          "height": 51
        }
      },
      "cell_type": "code",
      "source": [
        "#!pip install jsonlines"
      ],
      "execution_count": 1,
      "outputs": [
        {
          "output_type": "stream",
          "text": [
            "Requirement already satisfied: jsonlines in /usr/local/lib/python3.6/dist-packages (1.2.0)\n",
            "Requirement already satisfied: six in /usr/local/lib/python3.6/dist-packages (from jsonlines) (1.11.0)\n"
          ],
          "name": "stdout"
        }
      ]
    },
    {
      "metadata": {
        "id": "dhNpxYg6SA2Z",
        "colab_type": "text"
      },
      "cell_type": "markdown",
      "source": [
        "##Importing Libraries & Setting up API Credentials"
      ]
    },
    {
      "metadata": {
        "id": "R0i7yIGpRzD-",
        "colab_type": "code",
        "colab": {}
      },
      "cell_type": "code",
      "source": [
        "import jsonlines\n",
        "import tweepy\n",
        "\n",
        "credentials = {'consumer_key':'',\n",
        "               'consumer_secret':'',\n",
        "               'access_token':'',\n",
        "               'access_token_secret':''}\n",
        "\n",
        "auth = tweepy.OAuthHandler(credentials['consumer_key'], credentials['consumer_secret'])\n",
        "auth.set_access_token(credentials['access_token'], credentials['access_token_secret'])\n",
        "api = tweepy.API(auth)"
      ],
      "execution_count": 0,
      "outputs": []
    },
    {
      "metadata": {
        "id": "Tx4_-H4Qp7TV",
        "colab_type": "text"
      },
      "cell_type": "markdown",
      "source": [
        "## Scrapping Tweets from @midasIIITD and Writting them to JSONlines File"
      ]
    },
    {
      "metadata": {
        "id": "h-lQJgr-qML2",
        "colab_type": "code",
        "colab": {}
      },
      "cell_type": "code",
      "source": [
        "tweets = api.user_timeline(screen_name='midasiiitd',count=100)\n",
        "tweets = [i._json for i in tweets]\n",
        "with open('output.jsonl', 'w') as fp:\n",
        "  writer = jsonlines.Writer(fp)\n",
        "  writer.write_all(tweets)"
      ],
      "execution_count": 0,
      "outputs": []
    },
    {
      "metadata": {
        "id": "zOra929Vqj0-",
        "colab_type": "text"
      },
      "cell_type": "markdown",
      "source": [
        ""
      ]
    }
  ]
}